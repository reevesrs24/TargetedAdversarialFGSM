{
  "nbformat": 4,
  "nbformat_minor": 0,
  "metadata": {
    "colab": {
      "provenance": [],
      "collapsed_sections": []
    },
    "kernelspec": {
      "name": "python3",
      "display_name": "Python 3"
    },
    "language_info": {
      "name": "python"
    },
    "gpuClass": "standard",
    "accelerator": "GPU"
  },
  "cells": [
    {
      "cell_type": "code",
      "execution_count": 1,
      "metadata": {
        "id": "Sx7LuKgnGSCz"
      },
      "outputs": [],
      "source": [
        "import torch\n",
        "import torch.nn as nn\n",
        "import torch.nn.functional as F\n",
        "import matplotlib.pyplot as plt\n",
        "\n",
        "from torchvision import datasets, transforms"
      ]
    },
    {
      "cell_type": "code",
      "source": [
        "pretrained_model = \"lenet_mnist_model.pth\""
      ],
      "metadata": {
        "id": "-UNZi_rXGb27"
      },
      "execution_count": 2,
      "outputs": []
    },
    {
      "cell_type": "code",
      "source": [
        "# LeNet Model definition\n",
        "# https://pytorch.org/tutorials/beginner/fgsm_tutorial.html\n",
        "class Net(nn.Module):\n",
        "    def __init__(self):\n",
        "        super(Net, self).__init__()\n",
        "        self.conv1 = nn.Conv2d(1, 10, kernel_size=5)\n",
        "        self.conv2 = nn.Conv2d(10, 20, kernel_size=5)\n",
        "        self.conv2_drop = nn.Dropout2d()\n",
        "        self.fc1 = nn.Linear(320, 50)\n",
        "        self.fc2 = nn.Linear(50, 10)\n",
        "\n",
        "    def forward(self, x):\n",
        "        x = F.relu(F.max_pool2d(self.conv1(x), 2))\n",
        "        x = F.relu(F.max_pool2d(self.conv2_drop(self.conv2(x)), 2))\n",
        "        x = x.view(-1, 320)\n",
        "        x = F.relu(self.fc1(x))\n",
        "        x = F.dropout(x, training=self.training)\n",
        "        x = self.fc2(x)\n",
        "        return F.log_softmax(x, dim=1)\n",
        "\n",
        "device = torch.device(\"cuda\" if torch.cuda.is_available() else \"cpu\")\n",
        "\n",
        "# Initialize the network\n",
        "model = Net().to(device)\n",
        "\n",
        "# Load the pretrained model\n",
        "model.load_state_dict(torch.load(pretrained_model, map_location='cpu'))\n",
        "\n",
        "# Set the model in evaluation mode. In this case this is for the Dropout layers\n",
        "model.eval()"
      ],
      "metadata": {
        "colab": {
          "base_uri": "https://localhost:8080/"
        },
        "id": "Mu2-_JtRG4j7",
        "outputId": "58ea2d61-b272-4f6a-d9a6-f9dcb260d74d"
      },
      "execution_count": 3,
      "outputs": [
        {
          "output_type": "execute_result",
          "data": {
            "text/plain": [
              "Net(\n",
              "  (conv1): Conv2d(1, 10, kernel_size=(5, 5), stride=(1, 1))\n",
              "  (conv2): Conv2d(10, 20, kernel_size=(5, 5), stride=(1, 1))\n",
              "  (conv2_drop): Dropout2d(p=0.5, inplace=False)\n",
              "  (fc1): Linear(in_features=320, out_features=50, bias=True)\n",
              "  (fc2): Linear(in_features=50, out_features=10, bias=True)\n",
              ")"
            ]
          },
          "metadata": {},
          "execution_count": 3
        }
      ]
    },
    {
      "cell_type": "markdown",
      "source": [],
      "metadata": {
        "id": "zII0urdLtxO4"
      }
    },
    {
      "cell_type": "markdown",
      "source": [
        "# New Section"
      ],
      "metadata": {
        "id": "bMup33jWJa9E"
      }
    },
    {
      "cell_type": "code",
      "source": [
        "from ast import Continue\n",
        "class FGSM():\n",
        "  def __init__(self, orinal_num=0, target_num=1):\n",
        "    self.test_loader = None\n",
        "    self.target_num_tensor = None\n",
        "    self.original_num = orinal_num\n",
        "    self.target_num = target_num\n",
        "    self.adv_examples = []\n",
        "    self.max_attempts = 50\n",
        "    self.correct = 0\n",
        "    self.epsilon = 0.01\n",
        "    self.setup()\n",
        "\n",
        "  def setup(self):\n",
        "    # MNIST Test dataset and dataloader declaration\n",
        "    self.test_loader = torch.utils.data.DataLoader(\n",
        "        datasets.MNIST('../data', train=False, download=True, transform=transforms.Compose([\n",
        "                transforms.ToTensor(),\n",
        "                ])),\n",
        "            batch_size=1, shuffle=True)\n",
        "\n",
        "    # retrieve a target num tensor from the test loader\n",
        "    for data, target in self.test_loader:\n",
        "      if target.item() == self.target_num:\n",
        "        self.target_num_tensor = data\n",
        "        break\n",
        "  \n",
        "  # FGSM attack code\n",
        "  def fgsm_attack(self, image, epsilon, data_grad):\n",
        "    # Collect the element-wise sign of the data gradient\n",
        "    sign_data_grad = data_grad.sign()\n",
        "    # Create the perturbed image by adjusting each pixel of the input image\n",
        "\n",
        "    perturbed_image = image + epsilon * sign_data_grad\n",
        "\n",
        "    # Adding clipping to maintain [0,1] range\n",
        "    perturbed_image = torch.clamp(perturbed_image, 0, 1)\n",
        "    \n",
        "    # Return the perturbed image\n",
        "    return perturbed_image\n",
        "\n",
        "  def start_fgsa(self):\n",
        "    # Loop over all examples in test set\n",
        "    for data, target in self.test_loader:\n",
        "        \n",
        "        # if the target number does not equal the original number we wish to adversarial image for \n",
        "        # skip and continue the attack\n",
        "        if target.item() != self.original_num:\n",
        "          continue\n",
        "\n",
        "        # Send the data and label to the device\n",
        "        data, target = data.to(device), target.to(device)\n",
        "\n",
        "        # Set requires_grad attribute of tensor. Important for Attack\n",
        "        data.requires_grad = True\n",
        "\n",
        "        # set the pertubation attempts to zero\n",
        "        attempts = 0\n",
        "\n",
        "        # Forward pass the data through the model\n",
        "        self.target_num_tensor = self.target_num_tensor.to(device)\n",
        "\n",
        "        output_target = model(self.target_num_tensor)\n",
        "        output = model(data)\n",
        "        init_pred = output.max(1, keepdim=True)[1]\n",
        "\n",
        "        while init_pred.item() != self.target_num and attempts < self.max_attempts:\n",
        "          output_target = model(self.target_num_tensor)\n",
        "          output_original = model(data)\n",
        "\n",
        "          # Calculate the loss\n",
        "          loss = F.cosine_similarity(output_target, output_original)\n",
        "\n",
        "          # Zero all existing gradients\n",
        "          model.zero_grad()\n",
        "\n",
        "          # Calculate gradients of model in backward pass\n",
        "          loss.backward()\n",
        "\n",
        "          # Collect datagrad\n",
        "          data_grad = data.grad.data\n",
        "\n",
        "          # Call FGSM Attack\n",
        "          data = self.fgsm_attack(data, self.epsilon, data_grad).clone().detach()\n",
        "          data.requires_grad = True\n",
        "\n",
        "          # increment the attack attempt by 1\n",
        "          attempts += 1\n",
        "\n",
        "        # Re-classify the perturbed image\n",
        "        output_original = model(data)\n",
        "    \n",
        "        # Check for success\n",
        "        final_pred = output_original.max(1, keepdim=True)[1]\n",
        "\n",
        "        adv_ex = data.squeeze().detach().cpu().numpy()\n",
        "        self.adv_examples.append((self.original_num, final_pred.item(), adv_ex, data))\n",
        "\n",
        "\n",
        "  def display_results(self):\n",
        "    count = 0\n",
        "    miss_count = 0\n",
        "    plt.figure(figsize=(8,10))\n",
        "    \n",
        "    for i in range(len(self.adv_examples)):\n",
        "      orig ,adv, ex, data = self.adv_examples[i]\n",
        "      if orig == adv:\n",
        "        miss_count += 1\n",
        "\n",
        "    print(\"Created adversarial for {}/{}\".format(len(self.adv_examples) - miss_count, len(self.adv_examples)))\n",
        "\n",
        "    for i in range(20):\n",
        "            count += 1\n",
        "            plt.subplot(4, 5, count)\n",
        "            plt.xticks([], [])\n",
        "            plt.yticks([], [])\n",
        "            orig ,adv, ex, data = self.adv_examples[i]\n",
        "            plt.title(\"{} -> {}\".format(orig, adv))\n",
        "            plt.imshow(ex, cmap=\"gray\")\n",
        "    plt.tight_layout()\n",
        "    plt.show()"
      ],
      "metadata": {
        "id": "DLEyqnL8f1wf"
      },
      "execution_count": 6,
      "outputs": []
    },
    {
      "cell_type": "code",
      "source": [
        "fgsm = FGSM(orinal_num=7, target_num=3)\n",
        "fgsm.start_fgsa()\n",
        "fgsm.display_results()"
      ],
      "metadata": {
        "id": "Guhd0v03Gpx9"
      },
      "execution_count": null,
      "outputs": []
    },
    {
      "cell_type": "code",
      "source": [],
      "metadata": {
        "id": "5wDCoEnYG7g8"
      },
      "execution_count": null,
      "outputs": []
    }
  ]
}